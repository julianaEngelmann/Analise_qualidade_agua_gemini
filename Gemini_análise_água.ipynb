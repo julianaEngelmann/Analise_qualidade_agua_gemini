{
  "nbformat": 4,
  "nbformat_minor": 0,
  "metadata": {
    "colab": {
      "provenance": [],
      "authorship_tag": "ABX9TyPhp5qPHjB1Nldx1k3OP1d2",
      "include_colab_link": true
    },
    "kernelspec": {
      "name": "python3",
      "display_name": "Python 3"
    },
    "language_info": {
      "name": "python"
    }
  },
  "cells": [
    {
      "cell_type": "markdown",
      "metadata": {
        "id": "view-in-github",
        "colab_type": "text"
      },
      "source": [
        "<a href=\"https://colab.research.google.com/github/julianaEngelmann/Analise_qualidade_agua_gemini/blob/main/Gemini_an%C3%A1lise_%C3%A1gua.ipynb\" target=\"_parent\"><img src=\"https://colab.research.google.com/assets/colab-badge.svg\" alt=\"Open In Colab\"/></a>"
      ]
    },
    {
      "cell_type": "code",
      "source": [
        "!pip install -q -U google-generativeai"
      ],
      "metadata": {
        "id": "aGJwnQSPhjpL"
      },
      "execution_count": 1,
      "outputs": []
    },
    {
      "cell_type": "code",
      "source": [
        "# Import the Python SDK\n",
        "import google.generativeai as genai\n",
        "# Used to securely store your API key\n",
        "from google.colab import userdata\n",
        "\n",
        "GOOGLE_API_KEY='MINHA_CHAVE'\n",
        "genai.configure(api_key=GOOGLE_API_KEY)"
      ],
      "metadata": {
        "id": "-O3bDf5Vh8kb"
      },
      "execution_count": 2,
      "outputs": []
    },
    {
      "cell_type": "code",
      "source": [
        "generation_config = {\n",
        "    \"candidate_count\": 1,\n",
        "    \"temperature\": 0.5\n",
        "}\n",
        "\n",
        "safety_settings = {\n",
        "    \"HARASSMENT\": \"BLOCK_NONE\",\n",
        "    \"HATE\": \"BLOCK_NONE\",\n",
        "    \"SEXUAL\": \"BLOCK_NONE\",\n",
        "    \"DANGEROUS\": \"BLOCK_NONE\",\n",
        "\n",
        "}"
      ],
      "metadata": {
        "id": "SN1tv3pxiBZa"
      },
      "execution_count": 15,
      "outputs": []
    },
    {
      "cell_type": "code",
      "source": [
        "model = genai.GenerativeModel(model_name=\"models/gemini-1.5-pro-latest\", generation_config=generation_config, safety_settings = safety_settings)"
      ],
      "metadata": {
        "id": "4fF1iCD2iG3z"
      },
      "execution_count": 16,
      "outputs": []
    },
    {
      "cell_type": "code",
      "source": [
        "prompt=\"Vou te enviar as análises de amostras de água. Essas análises contém 7 parâmetros que identificam a qualidade da água \"\n",
        "prompt+=\"Conforme os valores desses parâmetros, quero que você me informe se a água é potável ou não para o consumo.\"\n",
        "prompt+=\"Abaixo seguem as diretrizes da portaria No 2914 DE 12/12/2011, informando os valores que tornam a água imprópria para o consumo:\"\n",
        "prompt+=\"-Turbidez(UT): > 5.0\"\n",
        "prompt+=\"-pH: <6.0 ou >9.5\"\n",
        "prompt+=\"-Fluor(mg/L): > 1.5\"\n",
        "prompt+=\"-Cor: a portaria não estabelece um valor máximo específico em unidades Hazen (UH)\"\n",
        "prompt+=\"-Cloro Residual Livre(mg/L): > 2.0\"\n",
        "prompt+=\"-Coliformes Totais: Presente\"\n",
        "prompt+=\"-Coliformes Termotolerantes: Presente\"\n",
        "prompt+=\"Como por exemplo, se a água for própria para consumo quero que me responda assim: Água potável. \"\n",
        "prompt+=\"Caso a água esteja com problemas de qualidade, quero que me informe: Água imprópria para o consumo. Citando o motivo disso, como por exemplo: motivo: Presença de Coliformes Totais. \"\n",
        "prompt+=\"E caso a água esteja com um parâmetro perto do limite para tornar ela imprópria, quero que me informe: Água potável, mas parâmetro tal está perto do limite para tornar o seu consumo impróprio.\"\n",
        "prompt+=\"1ª análise:\"\n",
        "prompt+=\"Coliformes Totais: Ausente\"\n",
        "prompt+=\"Coliformes Termotolerantes: Ausente\"\n",
        "prompt+=\"Turbidez(ul): 0.72\"\n",
        "prompt+=\"Cloro Residual Livre(ppm): 0.46\"\n",
        "prompt+=\"Cor(uC): 1.70\"\n",
        "prompt+=\"Fluoreto(ppm): 0.5\"\n",
        "prompt+=\"pH: 1\"\n",
        "prompt+=\"-----\"\n",
        "prompt+=\"2ª análise:\"\n",
        "prompt+=\"Coliformes Totais: Ausente\"\n",
        "prompt+=\"Coliformes Termotolerantes: Ausente\"\n",
        "prompt+=\"Turbidez(ul): 0.72\"\n",
        "prompt+=\"Cloro Residual Livre(ppm): 0.46\"\n",
        "prompt+=\"Cor(uC): 1.70\"\n",
        "prompt+=\"Fluoreto(ppm): 0.5\"\n",
        "prompt+=\"pH: 7.03\"\n",
        "prompt+=\"-----\"\n",
        "prompt+=\"3ª análise:\"\n",
        "prompt+=\"Coliformes Totais: Ausente\"\n",
        "prompt+=\"Coliformes Termotolerantes: Ausente\"\n",
        "prompt+=\"Turbidez(ul): 4.80\"\n",
        "prompt+=\"Cloro Residual Livre(ppm): 0.46\"\n",
        "prompt+=\"Cor(uC): 1.70\"\n",
        "prompt+=\"Fluoreto(ppm): 0.5\"\n",
        "prompt+=\"pH: 7.03\"\n",
        "\n",
        "response = model.generate_content(prompt)\n",
        "print(response.text)\n",
        "\n"
      ],
      "metadata": {
        "colab": {
          "base_uri": "https://localhost:8080/",
          "height": 260
        },
        "id": "Ua812-6uiK9U",
        "outputId": "388f5dd3-cbe8-48ac-a718-276f759afcff"
      },
      "execution_count": 20,
      "outputs": [
        {
          "output_type": "stream",
          "name": "stdout",
          "text": [
            "## Análise das Amostras de Água\n",
            "\n",
            "### 1ª análise: \n",
            "\n",
            "**Água imprópria para o consumo.** Motivo: pH muito baixo (1). \n",
            "\n",
            "### 2ª análise:\n",
            "\n",
            "**Água potável.** Todos os parâmetros estão dentro dos limites estabelecidos pela portaria.\n",
            "\n",
            "### 3ª análise:\n",
            "\n",
            "**Água potável, mas a Turbidez (4.80 UT) está perto do limite (5.0 UT) para tornar o seu consumo impróprio.** Recomenda-se monitorar esse parâmetro. \n",
            "\n"
          ]
        }
      ]
    }
  ]
}